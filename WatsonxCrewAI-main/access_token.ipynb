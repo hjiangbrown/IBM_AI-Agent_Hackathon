{
 "cells": [
  {
   "cell_type": "code",
   "execution_count": 1,
   "metadata": {},
   "outputs": [
    {
     "name": "stdout",
     "output_type": "stream",
     "text": [
      "Access Token: eyJraWQiOiIyMDI1MDMwMTA4NDQiLCJhbGciOiJSUzI1NiJ9.eyJpYW1faWQiOiJJQk1pZC02NjEwMDRNUlBMIiwiaWQiOiJJQk1pZC02NjEwMDRNUlBMIiwicmVhbG1pZCI6IklCTWlkIiwianRpIjoiYzg5NmQwOTktZjc5OC00ZjI5LWI0MGItMzhlYmFkZTM2MzBiIiwiaWRlbnRpZmllciI6IjY2MTAwNE1SUEwiLCJnaXZlbl9uYW1lIjoiSGVucnkiLCJmYW1pbHlfbmFtZSI6IkppYW5nIiwibmFtZSI6IkhlbnJ5IEppYW5nIiwiZW1haWwiOiJoamlhbmcyMDAwQGdtYWlsLmNvbSIsInN1YiI6ImhqaWFuZzIwMDBAZ21haWwuY29tIiwiYXV0aG4iOnsic3ViIjoiaGppYW5nMjAwMEBnbWFpbC5jb20iLCJpYW1faWQiOiJJQk1pZC02NjEwMDRNUlBMIiwibmFtZSI6IkhlbnJ5IEppYW5nIiwiZ2l2ZW5fbmFtZSI6IkhlbnJ5IiwiZmFtaWx5X25hbWUiOiJKaWFuZyIsImVtYWlsIjoiaGppYW5nMjAwMEBnbWFpbC5jb20ifSwiYWNjb3VudCI6eyJ2YWxpZCI6dHJ1ZSwiYnNzIjoiZmQ2NjViNTEyZTI2NGQ2MWJhNDM0MWEzMzU3M2NjNWYiLCJpbXNfdXNlcl9pZCI6IjEzNDMxMTk0IiwiZnJvemVuIjp0cnVlLCJpbXMiOiIyOTk2MzM2In0sImlhdCI6MTc0MjY2MTc1OCwiZXhwIjoxNzQyNjY1MzU4LCJpc3MiOiJodHRwczovL2lhbS5jbG91ZC5pYm0uY29tL2lkZW50aXR5IiwiZ3JhbnRfdHlwZSI6InVybjppYm06cGFyYW1zOm9hdXRoOmdyYW50LXR5cGU6YXBpa2V5Iiwic2NvcGUiOiJpYm0gb3BlbmlkIiwiY2xpZW50X2lkIjoiZGVmYXVsdCIsImFjciI6MSwiYW1yIjpbInB3ZCJdfQ.FlArdFeMmLEVxRTrBIVTs6oYE1vdOl7csGaY4NlsV9mb8s9eHOzEBxSYtGMgMaSla9rKnM2sdlcuTUPySc3-mGeyPjm6t-sZxnNbcT5nZK2nd4MIZKBQga866eut8jn-dZNEZ1_r_8iCnVMtMI3d83XyOZ4xs7I2OJQSKlkDzzBlawucP4VJN6AOH83SgCrY99MbbgYR5RgGDI3YxJY4wKmuWeAuL7KXXr-TmFPBWUFxFl_f5Fqt43CKk8lR1i-otLdwIBMqvPO-U7s7v65CMvNc2lRV7fQOfmtCI-aExWo84gH8w9e60uqBguQqXyli_BGlCPre-wYirj7d649NOQ\n"
     ]
    }
   ],
   "source": [
    "import requests\n",
    "\n",
    "# Define the URL and headers\n",
    "url = 'https://iam.cloud.ibm.com/identity/token'\n",
    "headers = {\n",
    "    'Content-Type': 'application/x-www-form-urlencoded'\n",
    "}\n",
    "\n",
    "# Define the payload (data) for the POST request\n",
    "data = {\n",
    "    'grant_type': 'urn:ibm:params:oauth:grant-type:apikey',\n",
    "    'apikey': 'GTH2VlKdyck3k1lBELX6VRYb2Qo-_dA2ocSgOzWhRvAo'\n",
    "}\n",
    "\n",
    "# Make the POST request\n",
    "response = requests.post(url, headers=headers, data=data)\n",
    "\n",
    "# Check if the request was successful\n",
    "if response.status_code == 200:\n",
    "    # Parse the JSON response to get the access token\n",
    "    access_token = response.json().get('access_token')\n",
    "    print(\"Access Token:\", access_token)\n",
    "else:\n",
    "    print(\"Failed to retrieve access token. Status code:\", response.status_code)\n",
    "    print(\"Response:\", response.text)"
   ]
  },
  {
   "cell_type": "code",
   "execution_count": null,
   "metadata": {},
   "outputs": [
    {
     "data": {
      "text/plain": [
       "'eyJraWQiOiIyMDI1MDMwMTA4NDQiLCJhbGciOiJSUzI1NiJ9.eyJpYW1faWQiOiJJQk1pZC02NjEwMDRNUlBMIiwiaWQiOiJJQk1pZC02NjEwMDRNUlBMIiwicmVhbG1pZCI6IklCTWlkIiwianRpIjoiYzg5NmQwOTktZjc5OC00ZjI5LWI0MGItMzhlYmFkZTM2MzBiIiwiaWRlbnRpZmllciI6IjY2MTAwNE1SUEwiLCJnaXZlbl9uYW1lIjoiSGVucnkiLCJmYW1pbHlfbmFtZSI6IkppYW5nIiwibmFtZSI6IkhlbnJ5IEppYW5nIiwiZW1haWwiOiJoamlhbmcyMDAwQGdtYWlsLmNvbSIsInN1YiI6ImhqaWFuZzIwMDBAZ21haWwuY29tIiwiYXV0aG4iOnsic3ViIjoiaGppYW5nMjAwMEBnbWFpbC5jb20iLCJpYW1faWQiOiJJQk1pZC02NjEwMDRNUlBMIiwibmFtZSI6IkhlbnJ5IEppYW5nIiwiZ2l2ZW5fbmFtZSI6IkhlbnJ5IiwiZmFtaWx5X25hbWUiOiJKaWFuZyIsImVtYWlsIjoiaGppYW5nMjAwMEBnbWFpbC5jb20ifSwiYWNjb3VudCI6eyJ2YWxpZCI6dHJ1ZSwiYnNzIjoiZmQ2NjViNTEyZTI2NGQ2MWJhNDM0MWEzMzU3M2NjNWYiLCJpbXNfdXNlcl9pZCI6IjEzNDMxMTk0IiwiZnJvemVuIjp0cnVlLCJpbXMiOiIyOTk2MzM2In0sImlhdCI6MTc0MjY2MTc1OCwiZXhwIjoxNzQyNjY1MzU4LCJpc3MiOiJodHRwczovL2lhbS5jbG91ZC5pYm0uY29tL2lkZW50aXR5IiwiZ3JhbnRfdHlwZSI6InVybjppYm06cGFyYW1zOm9hdXRoOmdyYW50LXR5cGU6YXBpa2V5Iiwic2NvcGUiOiJpYm0gb3BlbmlkIiwiY2xpZW50X2lkIjoiZGVmYXVsdCIsImFjciI6MSwiYW1yIjpbInB3ZCJdfQ.FlArdFeMmLEVxRTrBIVTs6oYE1vdOl7csGaY4NlsV9mb8s9eHOzEBxSYtGMgMaSla9rKnM2sdlcuTUPySc3-mGeyPjm6t-sZxnNbcT5nZK2nd4MIZKBQga866eut8jn-dZNEZ1_r_8iCnVMtMI3d83XyOZ4xs7I2OJQSKlkDzzBlawucP4VJN6AOH83SgCrY99MbbgYR5RgGDI3YxJY4wKmuWeAuL7KXXr-TmFPBWUFxFl_f5Fqt43CKk8lR1i-otLdwIBMqvPO-U7s7v65CMvNc2lRV7fQOfmtCI-aExWo84gH8w9e60uqBguQqXyli_BGlCPre-wYirj7d649NOQ'"
      ]
     },
     "execution_count": 3,
     "metadata": {},
     "output_type": "execute_result"
    }
   ],
   "source": []
  },
  {
   "cell_type": "code",
   "execution_count": null,
   "metadata": {},
   "outputs": [],
   "source": []
  }
 ],
 "metadata": {
  "kernelspec": {
   "display_name": "ai-agent",
   "language": "python",
   "name": "python3"
  },
  "language_info": {
   "codemirror_mode": {
    "name": "ipython",
    "version": 3
   },
   "file_extension": ".py",
   "mimetype": "text/x-python",
   "name": "python",
   "nbconvert_exporter": "python",
   "pygments_lexer": "ipython3",
   "version": "3.11.11"
  }
 },
 "nbformat": 4,
 "nbformat_minor": 2
}
