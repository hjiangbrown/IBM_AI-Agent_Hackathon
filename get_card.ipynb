{
 "cells": [
  {
   "cell_type": "code",
   "execution_count": 2,
   "metadata": {},
   "outputs": [
    {
     "name": "stdout",
     "output_type": "stream",
     "text": [
      "Card Name: Research ai\n",
      "Card Description: Do deep research of the most cutting edge applications of ai and quantum computing. do your research thoroughly and make sure to check multiple reputable sources\n",
      "----------------------------------------\n"
     ]
    }
   ],
   "source": [
    "import requests\n",
    "\n",
    "# Trello API endpoint and credentials\n",
    "list_id = \"5f1743793b184e31ee7d27fb\"  # this is the id of the to do list.\n",
    "api_key = \"d200138058c063cbb4ccd1c46bb572a0\"  # Replace with your Trello API key\n",
    "api_token = \"ATTA2e7844b7cbb2557cf79ef8cd019d9f64f0fc77840bc4410149219a6f447c56b4D33239C4\"  # Replace with your Trello API token\n",
    "\n",
    "# Trello API URL to get cards in a list\n",
    "url = f\"https://api.trello.com/1/lists/{list_id}/cards\"\n",
    "\n",
    "# Query parameters\n",
    "params = {\n",
    "    \"key\": api_key,\n",
    "    \"token\": api_token,\n",
    "    \"fields\": \"name,desc\"  # Only fetch the name and description fields\n",
    "}\n",
    "\n",
    "# Make the API request\n",
    "response = requests.get(url, params=params)\n",
    "\n",
    "# Check the response\n",
    "if response.status_code == 200:\n",
    "    cards = response.json()  # Parse the JSON response\n",
    "    for card in cards:\n",
    "        print(f\"Card Name: {card['name']}\")\n",
    "        print(f\"Card Description: {card['desc']}\")\n",
    "        print(\"-\" * 40)  # Separator for readability\n",
    "else:\n",
    "    print(\"Failed to fetch cards. Status code:\", response.status_code)\n",
    "    print(\"Response:\", response.text)"
   ]
  },
  {
   "cell_type": "code",
   "execution_count": null,
   "metadata": {},
   "outputs": [
    {
     "data": {
      "text/plain": [
       "'Do deep research of the most cutting edge applications of ai and quantum computing. do your research thoroughly and make sure to check multiple reputable sources'"
      ]
     },
     "execution_count": 3,
     "metadata": {},
     "output_type": "execute_result"
    }
   ],
   "source": []
  },
  {
   "cell_type": "code",
   "execution_count": null,
   "metadata": {},
   "outputs": [],
   "source": []
  }
 ],
 "metadata": {
  "kernelspec": {
   "display_name": "ai-agent",
   "language": "python",
   "name": "python3"
  },
  "language_info": {
   "codemirror_mode": {
    "name": "ipython",
    "version": 3
   },
   "file_extension": ".py",
   "mimetype": "text/x-python",
   "name": "python",
   "nbconvert_exporter": "python",
   "pygments_lexer": "ipython3",
   "version": "3.11.11"
  }
 },
 "nbformat": 4,
 "nbformat_minor": 2
}
