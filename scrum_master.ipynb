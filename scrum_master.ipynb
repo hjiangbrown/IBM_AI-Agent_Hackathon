{
 "cells": [
  {
   "cell_type": "code",
   "execution_count": 1,
   "metadata": {},
   "outputs": [
    {
     "name": "stdout",
     "output_type": "stream",
     "text": [
      "==== Final Answer ====\n",
      "**Blocker Analysis & Solutions**\n",
      "\n",
      "No blockers were reported by team members during today's stand-up meeting. However, it is essential to maintain vigilance for potential issues that may arise in the future. Here are some general strategies to address common blockers:\n",
      "\n",
      "1. **Technical Blockers:**\n",
      "   - *Issue:* Difficulty implementing a specific feature or resolving a bug.\n",
      "   - *Solution:* Encourage team members to seek help from colleagues with relevant expertise, consult online resources (e.g., Stack Overflow), or allocate time for pair programming sessions.\n",
      "\n",
      "2. **Dependency Blockers:**\n",
      "   - *Issue:* Waiting on external parties (e.g., third-party APIs, other teams) for necessary information or resources.\n",
      "   - *Solution:* Establish clear communication channels with dependent parties and set expectations for response times. If delays persist, consider alternative solutions or escalate the issue to higher management.\n",
      "\n",
      "3. **Resource Blockers:**\n",
      "   - *Issue:* Insufficient time, personnel, or equipment to complete tasks efficiently.\n",
      "   - *Solution:* Review team capacity and workload distribution, adjust priorities as needed, or request additional resources from management.\n",
      "\n",
      "4. **Knowledge Blockers:**\n",
      "   - *Issue:* Lack of familiarity with specific technologies, tools, or methodologies required for a task.\n",
      "   - *Solution:* Provide training opportunities, allocate time for self-study, or consider hiring external consultants if necessary.\n",
      "\n",
      "By proactively addressing these common blockers and fostering open communication within the team, we can minimize disruptions and maintain project momentum.\n"
     ]
    }
   ],
   "source": [
    "import asyncio\n",
    "import nest_asyncio\n",
    "from beeai_framework.backend.chat import ChatModel\n",
    "from beeai_framework.workflows.agent import AgentWorkflow, AgentWorkflowInput\n",
    "\n",
    "nest_asyncio.apply()  # Allows async functions to run in Jupyter\n",
    "\n",
    "async def main() -> None:\n",
    "    \n",
    "    workflow = AgentWorkflow(name=\"Scrum Master AI\")\n",
    "\n",
    "    workflow.add_agent(\n",
    "        name=\"DailyStandupFacilitator\",\n",
    "        role=\"A structured and efficient Scrum Master\",\n",
    "        instructions=\"You lead the daily stand-up meeting, ensuring team members report progress, plans, and blockers concisely.\",\n",
    "        llm=llm,\n",
    "    )\n",
    "\n",
    "    workflow.add_agent(\n",
    "        name=\"TaskTracker\",\n",
    "        role=\"A meticulous task manager\",\n",
    "        instructions=\"You update the Trello board with completed tasks, new work items, and blockers.\",\n",
    "        llm=llm,\n",
    "    )\n",
    "\n",
    "    workflow.add_agent(\n",
    "        name=\"BlockerResolver\",\n",
    "        role=\"A proactive problem-solver\",\n",
    "        instructions=\"You identify blockers mentioned by the team and suggest potential solutions or escalate them as needed.\",\n",
    "        llm=llm,\n",
    "    )\n",
    "\n",
    "    response = await workflow.run(\n",
    "        inputs=[\n",
    "            AgentWorkflowInput(\n",
    "                prompt=\"Facilitate the daily stand-up by asking each team member: What did you work on yesterday? What are you working on today? Any blockers?\",\n",
    "                expected_output=\"A structured stand-up report including each team member’s updates.\",\n",
    "            ),\n",
    "            AgentWorkflowInput(\n",
    "                prompt=\"Update the Trello board based on the stand-up meeting notes.\",\n",
    "                expected_output=\"A list of Trello updates, including completed tasks, in-progress work, and blockers.\",\n",
    "            ),\n",
    "            AgentWorkflowInput(\n",
    "                prompt=\"Identify blockers from the stand-up and suggest resolutions.\",\n",
    "                expected_output=\"A summary of blockers and possible solutions or escalation recommendations.\",\n",
    "            ),\n",
    "        ]\n",
    "    )\n",
    "\n",
    "    print(\"==== Final Answer ====\")\n",
    "    print(response.result.final_answer)\n",
    "\n",
    "# Run the async function in a notebook\n",
    "await main()\n"
   ]
  },
  {
   "cell_type": "code",
   "execution_count": null,
   "metadata": {},
   "outputs": [],
   "source": []
  }
 ],
 "metadata": {
  "kernelspec": {
   "display_name": "ai-agent",
   "language": "python",
   "name": "python3"
  },
  "language_info": {
   "codemirror_mode": {
    "name": "ipython",
    "version": 3
   },
   "file_extension": ".py",
   "mimetype": "text/x-python",
   "name": "python",
   "nbconvert_exporter": "python",
   "pygments_lexer": "ipython3",
   "version": "3.11.11"
  }
 },
 "nbformat": 4,
 "nbformat_minor": 2
}
