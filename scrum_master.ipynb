{
 "cells": [
  {
   "cell_type": "code",
   "execution_count": 2,
   "metadata": {},
   "outputs": [
    {
     "name": "stdout",
     "output_type": "stream",
     "text": [
      "==== Final Answer ====\n",
      "2025-03-21, Blocker Analysis and Resolution Recommendations\n",
      "\n",
      "No blockers were reported by team members Alice, Bob, or Charlie during today's stand-up meeting. However, it is essential to maintain vigilance for potential issues that may arise in the future. Here are some general recommendations for addressing possible blockers:\n",
      "\n",
      "1. Technical Blockers\n",
      "   - If a team member encounters a technical issue, they should first consult relevant documentation and online resources (e.g., Stack Overflow, official API documentation).\n",
      "   - If the problem persists, they can seek assistance from colleagues with expertise in the affected area or request help from senior developers within the organization.\n",
      "\n",
      "2. Dependency Blockers\n",
      "   - If a team member is waiting on input or approval from another individual or team, they should clearly communicate their needs and deadlines to ensure timely resolution.\n",
      "   - If necessary, escalate the issue to a manager or project coordinator for assistance in resolving dependencies.\n",
      "\n",
      "3. Resource Blockers (e.g., hardware, software)\n",
      "   - Team members should promptly report any resource-related issues to the appropriate IT support personnel or procurement team.\n",
      "   - In some cases, it may be necessary to prioritize and reallocate resources to address critical blockers.\n",
      "\n",
      "By proactively addressing potential blockers with these strategies, we can maintain project momentum and ensure timely delivery of high-quality work.\n"
     ]
    }
   ],
   "source": [
    "import asyncio\n",
    "import nest_asyncio\n",
    "from beeai_framework.backend.chat import ChatModel\n",
    "from beeai_framework.workflows.agent import AgentWorkflow, AgentWorkflowInput\n",
    "\n",
    "nest_asyncio.apply()  # Allows async functions to run in Jupyter\n",
    "\n",
    "async def main() -> None:\n",
    "    # Initialize Ollama chat model\n",
    "    llm = ChatModel.from_name(\"ollama:granite3.1-dense:8b\")\n",
    "    \n",
    "    workflow = AgentWorkflow(name=\"Scrum Master AI\")\n",
    "\n",
    "    workflow.add_agent(\n",
    "        name=\"DailyStandupFacilitator\",\n",
    "        role=\"A structured and efficient Scrum Master\",\n",
    "        instructions=\"You lead the daily stand-up meeting, ensuring team members report progress, plans, and blockers concisely.\",\n",
    "        llm=llm,\n",
    "    )\n",
    "\n",
    "    workflow.add_agent(\n",
    "        name=\"TaskTracker\",\n",
    "        role=\"A meticulous task manager\",\n",
    "        instructions=\"You update the Trello board with completed tasks, new work items, and blockers.\",\n",
    "        llm=llm,\n",
    "    )\n",
    "\n",
    "    workflow.add_agent(\n",
    "        name=\"BlockerResolver\",\n",
    "        role=\"A proactive problem-solver\",\n",
    "        instructions=\"You identify blockers mentioned by the team and suggest potential solutions or escalate them as needed.\",\n",
    "        llm=llm,\n",
    "    )\n",
    "\n",
    "    response = await workflow.run(\n",
    "        inputs=[\n",
    "            AgentWorkflowInput(\n",
    "                prompt=\"Facilitate the daily stand-up by asking each team member: What did you work on yesterday? What are you working on today? Any blockers?\",\n",
    "                expected_output=\"A structured stand-up report including each team member’s updates.\",\n",
    "            ),\n",
    "            AgentWorkflowInput(\n",
    "                prompt=\"Update the Trello board based on the stand-up meeting notes.\",\n",
    "                expected_output=\"A list of Trello updates, including completed tasks, in-progress work, and blockers.\",\n",
    "            ),\n",
    "            AgentWorkflowInput(\n",
    "                prompt=\"Identify blockers from the stand-up and suggest resolutions.\",\n",
    "                expected_output=\"A summary of blockers and possible solutions or escalation recommendations.\",\n",
    "            ),\n",
    "        ]\n",
    "    )\n",
    "\n",
    "    print(\"==== Final Answer ====\")\n",
    "    print(response.result.final_answer)\n",
    "\n",
    "# Run the async function in a notebook\n",
    "await main()\n"
   ]
  },
  {
   "cell_type": "code",
   "execution_count": null,
   "metadata": {},
   "outputs": [],
   "source": []
  }
 ],
 "metadata": {
  "kernelspec": {
   "display_name": "ai-agent",
   "language": "python",
   "name": "python3"
  },
  "language_info": {
   "codemirror_mode": {
    "name": "ipython",
    "version": 3
   },
   "file_extension": ".py",
   "mimetype": "text/x-python",
   "name": "python",
   "nbconvert_exporter": "python",
   "pygments_lexer": "ipython3",
   "version": "3.11.11"
  }
 },
 "nbformat": 4,
 "nbformat_minor": 2
}
