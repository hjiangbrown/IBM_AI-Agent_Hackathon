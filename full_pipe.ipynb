{
 "cells": [
  {
   "cell_type": "code",
   "execution_count": 55,
   "metadata": {},
   "outputs": [
    {
     "name": "stdout",
     "output_type": "stream",
     "text": [
      "Recording... Speak now!\n",
      "Recording saved as 'recorded_audio.wav'.\n"
     ]
    },
    {
     "name": "stderr",
     "output_type": "stream",
     "text": [
      "/Users/hjiang/miniforge3/envs/ai-agent/lib/python3.11/site-packages/whisper/transcribe.py:126: UserWarning: FP16 is not supported on CPU; using FP32 instead\n",
      "  warnings.warn(\"FP16 is not supported on CPU; using FP32 instead\")\n"
     ]
    },
    {
     "name": "stdout",
     "output_type": "stream",
     "text": [
      "Transcription:\n",
      " Add a card called AI agent under to-do list. For the description, say research RAG models.\n"
     ]
    }
   ],
   "source": [
    "#Get the speech to text command. \n",
    "import sounddevice as sd\n",
    "import numpy as np\n",
    "import whisper\n",
    "from scipy.io.wavfile import write\n",
    "\n",
    "# Step 1: Record audio from microphone\n",
    "fs = 44100  # Sample rate\n",
    "seconds = 30  # Duration of recording\n",
    "print(\"Recording... Speak now!\")\n",
    "recording = sd.rec(int(seconds * fs), samplerate=fs, channels=1, dtype=np.int16)\n",
    "sd.wait()\n",
    "wav_filename = \"recorded_audio.wav\"\n",
    "write(wav_filename, fs, recording)\n",
    "print(f\"Recording saved as '{wav_filename}'.\")\n",
    "\n",
    "# Step 2: Transcribe the audio using Whisper\n",
    "model = whisper.load_model(\"base\")  # Use \"tiny\", \"small\", \"medium\", or \"large\" as needed\n",
    "result = model.transcribe(wav_filename)\n",
    "\n",
    "# Step 3: Print the transcription\n",
    "print(\"Transcription:\")\n",
    "print(result[\"text\"])\n",
    "message=result[\"text\"]"
   ]
  },
  {
   "cell_type": "code",
   "execution_count": 56,
   "metadata": {},
   "outputs": [
    {
     "name": "stdout",
     "output_type": "stream",
     "text": [
      "                         id          name\n",
      "0  5f1743793b184e31ee7d27fb  Things To Do\n",
      "1  5f1743793b184e31ee7d27fc         Doing\n",
      "2  5f1743793b184e31ee7d27fd          Done\n",
      "==== Context for RAG Model ====\n",
      "ID: 5f1743793b184e31ee7d27fb, Name: Things To Do\n",
      "ID: 5f1743793b184e31ee7d27fc, Name: Doing\n",
      "ID: 5f1743793b184e31ee7d27fd, Name: Done\n",
      "200\n",
      "[{'id': '5f1743793b184e31ee7d27fb', 'name': 'Things To Do', 'closed': False, 'color': None, 'idBoard': '5f1743793b184e31ee7d27f9', 'pos': 65535, 'subscribed': False, 'softLimit': None, 'type': None, 'datasource': {'filter': False}}, {'id': '5f1743793b184e31ee7d27fc', 'name': 'Doing', 'closed': False, 'color': None, 'idBoard': '5f1743793b184e31ee7d27f9', 'pos': 131071, 'subscribed': False, 'softLimit': None, 'type': None, 'datasource': {'filter': False}}, {'id': '5f1743793b184e31ee7d27fd', 'name': 'Done', 'closed': False, 'color': None, 'idBoard': '5f1743793b184e31ee7d27f9', 'pos': 196607, 'subscribed': False, 'softLimit': None, 'type': None, 'datasource': {'filter': False}}]\n"
     ]
    }
   ],
   "source": [
    "#get list information and creates a dataframe for the rag model to reference. leaves description blank for now.\n",
    "\n",
    "import requests\n",
    "import pandas as pd\n",
    "\n",
    "# Replace with your board ID\n",
    "board_id = \"5f1743793b184e31ee7d27f9\"  # Example board ID\n",
    "\n",
    "# Trello API URL for getting lists on a board\n",
    "url = f\"https://api.trello.com/1/boards/{board_id}/lists\"\n",
    "\n",
    "# Query parameters (API key and token)\n",
    "query = {\n",
    "    'key': 'd200138058c063cbb4ccd1c46bb572a0',  # Your API Key\n",
    "    'token': 'ATTA2e7844b7cbb2557cf79ef8cd019d9f64f0fc77840bc4410149219a6f447c56b4D33239C4'  # Your API Token\n",
    "}\n",
    "\n",
    "# Make the request\n",
    "response = requests.request(\"GET\", url, params=query)\n",
    "\n",
    "# Check if the request was successful\n",
    "if response.status_code == 200:\n",
    "    lists_data = response.json()\n",
    "    \n",
    "    # Convert JSON to DataFrame (no description included)\n",
    "    df = pd.DataFrame(lists_data)\n",
    "    \n",
    "    # Select relevant columns (id and name)\n",
    "    df = df[['id', 'name',]]  # Only keep id and name columns\n",
    "    \n",
    "    # Print the DataFrame\n",
    "    print(df)\n",
    "    \n",
    "    # Creating a text context for the LLM (RAG model)\n",
    "    context = \"\\n\".join([f\"ID: {row['id']}, Name: {row['name']}\" for _, row in df.iterrows()])\n",
    "    \n",
    "    print(\"==== Context for RAG Model ====\")\n",
    "    print(context)\n",
    "else:\n",
    "    print(f\"Error: {response.status_code}, {response.text}\")\n",
    "\n",
    "# Print the response for debugging\n",
    "print(response.status_code)  # Check the status code (200 means success)\n",
    "print(response.json())  # Print the JSON response (lists on the board)\n"
   ]
  },
  {
   "cell_type": "code",
   "execution_count": 66,
   "metadata": {},
   "outputs": [
    {
     "name": "stdout",
     "output_type": "stream",
     "text": [
      "\n",
      "-> Step 'ListRetriever' has been completed with the following outcome.\n",
      "\n",
      "The card should be added to the \"Things To Do\" list. The ID is 5f1743793b184e31ee7d27fb and the name is \"Things To Do\".\n",
      "==== Final Answer ====\n",
      "The card should be added to the \"Things To Do\" list. The ID is 5f1743793b184e31ee7d27fb and the name is \"Things To Do\".\n"
     ]
    }
   ],
   "source": [
    "# Initialize ChatModel for Ollama\n",
    "# Initialize ChatModel for Ollama\n",
    "async def main():\n",
    "    llm = ChatModel.from_name(\"ollama:granite3.1-dense:8b\")\n",
    "    workflow = AgentWorkflow(name=\"Smart assistant\")\n",
    "\n",
    "    workflow.add_agent(\n",
    "        name=\"ListRetriever\",\n",
    "        role=\"A smart assistant who identifies the correct Trello list.\",\n",
    "        instructions=\"Match the user's description to one of the available Trello lists. Return both the ID and name.\",\n",
    "        llm=llm,\n",
    "    )\n",
    "\n",
    "    # Example of user input\n",
    "    user_input = message\n",
    "\n",
    "    # Use the RAG model to find the best match by passing the DataFrame to the model\n",
    "    # Convert DataFrame to text representation to give the LLM context (only including ID and Name)\n",
    "    context = \"\\n\".join([f\"ID: {row['id']}, Name: {row['name']}\" for _, row in df.iterrows()])\n",
    "\n",
    "    response = await workflow.run(\n",
    "        inputs=[\n",
    "            AgentWorkflowInput(\n",
    "                prompt=f\"Given the following list of Trello lists:\\n{context}\\n\\nUser input: '{user_input}'\\n\\nWhich Trello list should the card be added to? Provide the ID and name.\",\n",
    "                expected_output=\"Return the ID and name of the corresponding Trello list.\",\n",
    "            ),\n",
    "        ]\n",
    "    ).on(\n",
    "        \"success\",\n",
    "        lambda data, event: print(\n",
    "            f\"\\n-> Step '{data.step}' has been completed with the following outcome.\\n\\n{data.state.final_answer}\"\n",
    "        ),\n",
    "    )\n",
    "\n",
    "    print(\"==== Final Answer ====\")\n",
    "    print(response.result.final_answer)\n",
    "\n",
    "# Instead of asyncio.run(), simply use await in a running event loop (for Jupyter or similar environments)\n",
    "await main()"
   ]
  },
  {
   "cell_type": "code",
   "execution_count": null,
   "metadata": {},
   "outputs": [],
   "source": [
    "#so far the list retriever and only retrieve the list id and name. we need it to get the description in the future"
   ]
  },
  {
   "cell_type": "code",
   "execution_count": 67,
   "metadata": {},
   "outputs": [
    {
     "name": "stdout",
     "output_type": "stream",
     "text": [
      "\n",
      "-> Step 'TrelloAssistant' has been completed with the following outcome.\n",
      "\n",
      "I have successfully added a new card titled \"New Task\" to your 'Things To Do' list on Trello. You can now view this task in your board. If you need further assistance, please let me know.\n",
      "==== Final Answer ====\n",
      "Card 'New Task 2' has been successfully added to the list.\n"
     ]
    }
   ],
   "source": [
    "\n",
    "\n",
    "# Function to make a POST request (e.g., add a new card to Trello)\n",
    "def post_to_trello(list_id: str, card_name: str) -> str:\n",
    "    url = \"https://api.trello.com/1/cards\"  # Example Trello API URL to create a new card\n",
    "    query = {\n",
    "        'key': 'd200138058c063cbb4ccd1c46bb572a0',  # Your API Key\n",
    "        'token': 'ATTA2e7844b7cbb2557cf79ef8cd019d9f64f0fc77840bc4410149219a6f447c56b4D33239C4',  # Your API Token\n",
    "        'idList': list_id,\n",
    "        'name': card_name,  # Name of the card to be added\n",
    "    }\n",
    "\n",
    "    # Sending POST request to Trello API to create the card\n",
    "    response = requests.post(url, params=query)\n",
    "    if response.status_code == 200:\n",
    "        return f\"Card '{card_name}' has been successfully added to the list.\"\n",
    "    else:\n",
    "        return f\"Failed to add the card. Error: {response.status_code} - {response.text}\"\n",
    "\n",
    "# Initialize ChatModel for Ollama\n",
    "async def main():\n",
    "    llm = ChatModel.from_name(\"ollama:granite3.1-dense:8b\")\n",
    "    workflow = AgentWorkflow(name=\"Smart assistant\")\n",
    "\n",
    "    workflow.add_agent(\n",
    "        name=\"TrelloAssistant\",\n",
    "        role=\"A smart assistant who adds cards to Trello lists.\",\n",
    "        instructions=\"Based on user input, identify the list and card name, then post a new card to Trello.\",\n",
    "        llm=llm,\n",
    "    )\n",
    "\n",
    "    # Example of user input (asking to add a card to a list)\n",
    "    user_input = \"Add a new card called 'New Task' to the 'Things To Do' list.\"\n",
    "\n",
    "    # Extract the Trello list name and the card name from user input\n",
    "    list_name = \"Things To Do\"\n",
    "    card_name = \"New Task 2\"\n",
    "\n",
    "    # Retrieve the list ID from the DataFrame (using the list name)\n",
    "    list_id = df.loc[df['name'] == list_name, 'id'].values[0]\n",
    "\n",
    "    # Call the POST request to add the card to Trello\n",
    "    post_response = post_to_trello(list_id, card_name)\n",
    "\n",
    "    # Provide response to the user\n",
    "    response = await workflow.run(\n",
    "        inputs=[\n",
    "            AgentWorkflowInput(\n",
    "                prompt=f\"User asked: '{user_input}'. How should I respond after adding a new card to the Trello list?\",\n",
    "                expected_output=\"Provide a confirmation message or an error message if something goes wrong.\",\n",
    "            ),\n",
    "        ]\n",
    "    ).on(\n",
    "        \"success\",\n",
    "        lambda data, event: print(f\"\\n-> Step '{data.step}' has been completed with the following outcome.\\n\\n{data.state.final_answer}\")\n",
    "    )\n",
    "\n",
    "    print(\"==== Final Answer ====\")\n",
    "    print(post_response)\n",
    "\n",
    "# Instead of asyncio.run(), simply use await in a running event loop (for Jupyter or similar environments)\n",
    "await main()\n"
   ]
  },
  {
   "cell_type": "code",
   "execution_count": null,
   "metadata": {},
   "outputs": [],
   "source": [
    "#this successfully added a card on trello."
   ]
  }
 ],
 "metadata": {
  "kernelspec": {
   "display_name": "ai-agent",
   "language": "python",
   "name": "python3"
  },
  "language_info": {
   "codemirror_mode": {
    "name": "ipython",
    "version": 3
   },
   "file_extension": ".py",
   "mimetype": "text/x-python",
   "name": "python",
   "nbconvert_exporter": "python",
   "pygments_lexer": "ipython3",
   "version": "3.11.11"
  }
 },
 "nbformat": 4,
 "nbformat_minor": 2
}
