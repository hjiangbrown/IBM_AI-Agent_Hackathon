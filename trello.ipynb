{
 "cells": [
  {
   "cell_type": "markdown",
   "metadata": {},
   "source": [
    "#trello key and token\n",
    "'key': 'd200138058c063cbb4ccd1c46bb572a0',\n",
    "'token': 'ATTA2e7844b7cbb2557cf79ef8cd019d9f64f0fc77840bc4410149219a6f447c56b4D33239C4'\n"
   ]
  },
  {
   "cell_type": "code",
   "execution_count": 3,
   "metadata": {},
   "outputs": [
    {
     "name": "stdout",
     "output_type": "stream",
     "text": [
      "[{\"id\":\"5f1743793b184e31ee7d27f9\",\"nodeId\":\"ari:cloud:trello::board/workspace/60cd341fe1254d7b6957be07/5f1743793b184e31ee7d27f9\",\"name\":\"agentic_ai\",\"desc\":\"\",\"descData\":null,\"closed\":false,\"dateClosed\":null,\"idOrganization\":\"60cd341fe1254d7b6957be07\",\"idEnterprise\":null,\"limits\":{\"attachments\":{\"perBoard\":{\"status\":\"ok\",\"disableAt\":36000,\"warnAt\":28800},\"perCard\":{\"status\":\"ok\",\"disableAt\":1000,\"warnAt\":800}},\"boards\":{\"totalMembersPerBoard\":{\"status\":\"ok\",\"disableAt\":1600,\"warnAt\":1280},\"totalAccessRequestsPerBoard\":{\"status\":\"ok\",\"disableAt\":4000,\"warnAt\":3200}},\"cards\":{\"openPerBoard\":{\"status\":\"ok\",\"disableAt\":5000,\"warnAt\":4000},\"openPerList\":{\"status\":\"ok\",\"disableAt\":5000,\"warnAt\":4000},\"totalPerBoard\":{\"status\":\"ok\",\"disableAt\":2000000,\"warnAt\":1600000},\"totalPerList\":{\"status\":\"ok\",\"disableAt\":1000000,\"warnAt\":800000}},\"checklists\":{\"perBoard\":{\"status\":\"ok\",\"disableAt\":1800000,\"warnAt\":1440000},\"perCard\":{\"status\":\"ok\",\"disableAt\":500,\"warnAt\":400}},\"checkItems\":{\"perChecklist\":{\"status\":\"ok\",\"disableAt\":200,\"warnAt\":160}},\"customFields\":{\"perBoard\":{\"status\":\"ok\",\"disableAt\":50,\"warnAt\":40}},\"customFieldOptions\":{\"perField\":{\"status\":\"ok\",\"disableAt\":50,\"warnAt\":40}},\"labels\":{\"perBoard\":{\"status\":\"ok\",\"disableAt\":1000,\"warnAt\":800}},\"lists\":{\"openPerBoard\":{\"status\":\"ok\",\"disableAt\":500,\"warnAt\":400},\"totalPerBoard\":{\"status\":\"ok\",\"disableAt\":3000,\"warnAt\":2400}},\"stickers\":{\"perCard\":{\"status\":\"ok\",\"disableAt\":70,\"warnAt\":56}},\"reactions\":{\"perAction\":{\"status\":\"ok\",\"disableAt\":900,\"warnAt\":720},\"uniquePerAction\":{\"status\":\"ok\",\"disableAt\":17,\"warnAt\":14}}},\"pinned\":false,\"starred\":false,\"url\":\"https://trello.com/b/zhb48CBv/agenticai\",\"prefs\":{\"permissionLevel\":\"private\",\"hideVotes\":false,\"voting\":\"disabled\",\"comments\":\"members\",\"invitations\":\"members\",\"selfJoin\":true,\"cardCovers\":true,\"showCompleteStatus\":true,\"cardCounts\":false,\"isTemplate\":false,\"calendarFeedEnabled\":false,\"hiddenPluginBoardButtons\":[],\"switcherViews\":[{\"viewType\":\"Board\",\"enabled\":true},{\"viewType\":\"Table\",\"enabled\":true},{\"viewType\":\"Calendar\",\"enabled\":false},{\"viewType\":\"Dashboard\",\"enabled\":false},{\"viewType\":\"Timeline\",\"enabled\":false},{\"viewType\":\"Map\",\"enabled\":false}],\"background\":\"lime\",\"backgroundColor\":\"#4BBF6B\",\"backgroundDarkColor\":null,\"backgroundImage\":null,\"backgroundDarkImage\":null,\"backgroundImageScaled\":null,\"backgroundTile\":false,\"backgroundBrightness\":\"dark\",\"sharedSourceUrl\":null,\"backgroundBottomColor\":\"#4BBF6B\",\"backgroundTopColor\":\"#4BBF6B\",\"canBePublic\":true,\"canBeEnterprise\":true,\"canBeOrg\":true,\"canBePrivate\":true,\"canInvite\":true},\"shortLink\":\"zhb48CBv\",\"subscribed\":false,\"labelNames\":{\"green\":\"\",\"yellow\":\"\",\"orange\":\"\",\"red\":\"\",\"purple\":\"\",\"blue\":\"\",\"sky\":\"\",\"lime\":\"\",\"pink\":\"\",\"black\":\"\",\"green_dark\":\"\",\"yellow_dark\":\"\",\"orange_dark\":\"\",\"red_dark\":\"\",\"purple_dark\":\"\",\"blue_dark\":\"\",\"sky_dark\":\"\",\"lime_dark\":\"\",\"pink_dark\":\"\",\"black_dark\":\"\",\"green_light\":\"\",\"yellow_light\":\"\",\"orange_light\":\"\",\"red_light\":\"\",\"purple_light\":\"\",\"blue_light\":\"\",\"sky_light\":\"\",\"lime_light\":\"\",\"pink_light\":\"\",\"black_light\":\"\"},\"powerUps\":[],\"dateLastActivity\":\"2025-03-21T21:02:08.136Z\",\"dateLastView\":\"2025-03-21T21:02:08.215Z\",\"shortUrl\":\"https://trello.com/b/zhb48CBv\",\"idTags\":[],\"datePluginDisable\":null,\"creationMethod\":\"demo\",\"ixUpdate\":\"67\",\"templateGallery\":null,\"enterpriseOwned\":false,\"idBoardSource\":null,\"premiumFeatures\":[\"additionalBoardBackgrounds\",\"additionalStickers\",\"customBoardBackgrounds\",\"customEmoji\",\"customStickers\",\"plugins\"],\"idMemberCreator\":\"4e6a7fad05d98b02ba00845c\",\"type\":null,\"memberships\":[{\"id\":\"5f1743793b184e31ee7d27fa\",\"idMember\":\"4e6a7fad05d98b02ba00845c\",\"memberType\":\"normal\",\"unconfirmed\":false,\"deactivated\":false},{\"id\":\"5f1743793b184e31ee7d2803\",\"idMember\":\"5f1743783b184e31ee7d27f4\",\"memberType\":\"admin\",\"unconfirmed\":false,\"deactivated\":false}]},{\"id\":\"5f2b20e3c34b04020b3f01dd\",\"nodeId\":\"ari:cloud:trello::board/workspace/60cd341fe1254d7b6957be07/5f2b20e3c34b04020b3f01dd\",\"name\":\"Swift Developer Roadmap\",\"desc\":\"# 👋 Hello\\nWe have created this Swift Developer Roadmap template for you to follow a study path for developing apps. Each card is prioritized by order of importance and priority, and separated by levels of experience.\\n\\n# 👨‍🎓 How to use the board\\n## Read the blog post\\n[🇺🇸 Follow This Path — A Study Guide for Software Development with Swift](https://medium.com/@ronanrodrigo/follow-this-path-a-study-guide-for-software-development-with-swift-180ba093a752)\\n[🇧🇷 Siga por este caminho — Um guia de estudos sobre desenvolvimento de software com Swift](https://medium.com/@ronanrodrigo/siga-por-este-caminho-um-guia-de-estudos-sobre-desenvolvimento-de-software-db857c4f04f9)\\n \\n## Or just\\nUsing the board is simple. First of all, copy the board to your own account. Next, choose a theme, get a card giving preference to the priority and drag it to the \\\"Learning\\\" column. Begin your studies based on the description of the card and make notes about your learning in the comments section. Most importantly, move the card to \\\"Done\\\" and start the next topic only when you believe you have completed the study. We suggest that your definition of \\\"Done\\\" be:\\n\\n- Create a project that contemplates the content;\\n- Write a text about the subject;\\n- Give a presentation about the theme.\\n\\n# ⁉️ Help and Suggestions\\nhttps://t.me/swift_developer_roadmap\\n\\n# 👩‍💻 Contributors\\nhttps://github.com/ronanrodrigo\\nhttps://github.com/unnamedd\\nhttps://github.com/Viniciuscarvalho/\\nhttps://github.com/murielsilveira\\nhttps://github.com/ericbrito\\nhttps://github.com/judarlima\",\"descData\":null,\"closed\":false,\"dateClosed\":null,\"idOrganization\":\"60cd341fe1254d7b6957be07\",\"idEnterprise\":null,\"limits\":{\"attachments\":{\"perBoard\":{\"status\":\"ok\",\"disableAt\":36000,\"warnAt\":28800},\"perCard\":{\"status\":\"ok\",\"disableAt\":1000,\"warnAt\":800}},\"boards\":{\"totalMembersPerBoard\":{\"status\":\"ok\",\"disableAt\":1600,\"warnAt\":1280},\"totalAccessRequestsPerBoard\":{\"status\":\"ok\",\"disableAt\":4000,\"warnAt\":3200}},\"cards\":{\"openPerBoard\":{\"status\":\"ok\",\"disableAt\":5000,\"warnAt\":4000},\"openPerList\":{\"status\":\"ok\",\"disableAt\":5000,\"warnAt\":4000},\"totalPerBoard\":{\"status\":\"ok\",\"disableAt\":2000000,\"warnAt\":1600000},\"totalPerList\":{\"status\":\"ok\",\"disableAt\":1000000,\"warnAt\":800000}},\"checklists\":{\"perBoard\":{\"status\":\"ok\",\"disableAt\":1800000,\"warnAt\":1440000},\"perCard\":{\"status\":\"ok\",\"disableAt\":500,\"warnAt\":400}},\"checkItems\":{\"perChecklist\":{\"status\":\"ok\",\"disableAt\":200,\"warnAt\":160}},\"customFields\":{\"perBoard\":{\"status\":\"ok\",\"disableAt\":50,\"warnAt\":40}},\"customFieldOptions\":{\"perField\":{\"status\":\"ok\",\"disableAt\":50,\"warnAt\":40}},\"labels\":{\"perBoard\":{\"status\":\"ok\",\"disableAt\":1000,\"warnAt\":800}},\"lists\":{\"openPerBoard\":{\"status\":\"ok\",\"disableAt\":500,\"warnAt\":400},\"totalPerBoard\":{\"status\":\"ok\",\"disableAt\":3000,\"warnAt\":2400}},\"stickers\":{\"perCard\":{\"status\":\"ok\",\"disableAt\":70,\"warnAt\":56}},\"reactions\":{\"perAction\":{\"status\":\"ok\",\"disableAt\":900,\"warnAt\":720},\"uniquePerAction\":{\"status\":\"ok\",\"disableAt\":17,\"warnAt\":14}}},\"pinned\":false,\"starred\":false,\"url\":\"https://trello.com/b/eRXpREph/swift-developer-roadmap\",\"prefs\":{\"permissionLevel\":\"private\",\"hideVotes\":false,\"voting\":\"disabled\",\"comments\":\"disabled\",\"invitations\":\"admins\",\"selfJoin\":false,\"cardCovers\":false,\"showCompleteStatus\":true,\"cardCounts\":false,\"isTemplate\":false,\"cardAging\":\"regular\",\"calendarFeedEnabled\":false,\"hiddenPluginBoardButtons\":[],\"switcherViews\":[{\"viewType\":\"Board\",\"enabled\":true},{\"viewType\":\"Table\",\"enabled\":true},{\"viewType\":\"Calendar\",\"enabled\":false},{\"viewType\":\"Dashboard\",\"enabled\":false},{\"viewType\":\"Timeline\",\"enabled\":false},{\"viewType\":\"Map\",\"enabled\":false}],\"background\":\"5a7c8adebee86e1652500e17\",\"backgroundColor\":null,\"backgroundDarkColor\":null,\"backgroundImage\":\"https://trello-backgrounds.s3.amazonaws.com/SharedBackground/2560x1909/ec8900a524bf32e3c3d305110487b9d1/photo-1499088513455-78ed88b7a5b4\",\"backgroundDarkImage\":null,\"backgroundImageScaled\":[{\"width\":140,\"height\":100,\"url\":\"https://trello-backgrounds.s3.amazonaws.com/SharedBackground/140x100/fcc714ff2c3d013e0308b43aac501f47/photo-1499088513455-78ed88b7a5b4.jpg\"},{\"width\":256,\"height\":192,\"url\":\"https://trello-backgrounds.s3.amazonaws.com/SharedBackground/256x192/8e21019a5abddc23f322c991319d517d/photo-1499088513455-78ed88b7a5b4.jpg\"},{\"width\":480,\"height\":480,\"url\":\"https://trello-backgrounds.s3.amazonaws.com/SharedBackground/480x480/66a05934c4367fe020f18ad6099b19d1/photo-1499088513455-78ed88b7a5b4.jpg\"},{\"width\":960,\"height\":960,\"url\":\"https://trello-backgrounds.s3.amazonaws.com/SharedBackground/960x960/080ba71fc5c5fc7179c9f8b56c2f766e/photo-1499088513455-78ed88b7a5b4.jpg\"},{\"width\":1024,\"height\":1024,\"url\":\"https://trello-backgrounds.s3.amazonaws.com/SharedBackground/1024x1024/08c966d2ec7c36292a215cf12ffec6d9/photo-1499088513455-78ed88b7a5b4.jpg\"},{\"width\":1280,\"height\":1280,\"url\":\"https://trello-backgrounds.s3.amazonaws.com/SharedBackground/1280x1280/d6977f98a3be8acb6a6b2b479dc248af/photo-1499088513455-78ed88b7a5b4.jpg\"},{\"width\":1920,\"height\":1920,\"url\":\"https://trello-backgrounds.s3.amazonaws.com/SharedBackground/1920x1920/0d28f0045f2bd4dcffbc9cfc86976729/photo-1499088513455-78ed88b7a5b4.jpg\"},{\"width\":2048,\"height\":2048,\"url\":\"https://trello-backgrounds.s3.amazonaws.com/SharedBackground/2048x2048/9c789cd2edcecf4f9341e18a9036e6ed/photo-1499088513455-78ed88b7a5b4.jpg\"},{\"width\":2560,\"height\":1600,\"url\":\"https://trello-backgrounds.s3.amazonaws.com/SharedBackground/2560x1600/bfdfc7f3dba78c5f991652e805428cf1/photo-1499088513455-78ed88b7a5b4.jpg\"},{\"width\":2560,\"height\":1909,\"url\":\"https://trello-backgrounds.s3.amazonaws.com/SharedBackground/2560x1909/ec8900a524bf32e3c3d305110487b9d1/photo-1499088513455-78ed88b7a5b4\"}],\"backgroundTile\":false,\"backgroundBrightness\":\"dark\",\"sharedSourceUrl\":\"https://images.unsplash.com/photo-1499088513455-78ed88b7a5b4?ixlib=rb-0.3.5&ixid=eyJhcHBfaWQiOjcwNjZ9&s=1c711f995392d1a2d58b84b03437ad4f&w=2560&h=2048&q=90\",\"backgroundBottomColor\":\"#7f060f\",\"backgroundTopColor\":\"#d4362c\",\"canBePublic\":true,\"canBeEnterprise\":true,\"canBeOrg\":true,\"canBePrivate\":true,\"canInvite\":true},\"shortLink\":\"eRXpREph\",\"subscribed\":false,\"labelNames\":{\"green\":\"Third-party Libraries\",\"yellow\":\"Server-side\",\"orange\":\"Tools\",\"red\":\"Data Persistance\",\"purple\":\"Debugging\",\"blue\":\"System Framework\",\"sky\":\"Basics\",\"lime\":\"Patterns\",\"pink\":\"Programming Paradigm\",\"black\":\"\",\"green_dark\":\"\",\"yellow_dark\":\"\",\"orange_dark\":\"\",\"red_dark\":\"\",\"purple_dark\":\"\",\"blue_dark\":\"\",\"sky_dark\":\"\",\"lime_dark\":\"\",\"pink_dark\":\"\",\"black_dark\":\"\",\"green_light\":\"\",\"yellow_light\":\"\",\"orange_light\":\"\",\"red_light\":\"\",\"purple_light\":\"\",\"blue_light\":\"\",\"sky_light\":\"\",\"lime_light\":\"\",\"pink_light\":\"\",\"black_light\":\"\"},\"powerUps\":[],\"dateLastActivity\":null,\"dateLastView\":\"2020-08-05T21:13:15.510Z\",\"shortUrl\":\"https://trello.com/b/eRXpREph\",\"idTags\":[],\"datePluginDisable\":null,\"creationMethod\":null,\"ixUpdate\":\"7\",\"templateGallery\":null,\"enterpriseOwned\":false,\"idBoardSource\":\"5b7ee4a5140dc81e8696ef14\",\"premiumFeatures\":[\"additionalBoardBackgrounds\",\"additionalStickers\",\"customBoardBackgrounds\",\"customEmoji\",\"customStickers\",\"plugins\"],\"idMemberCreator\":null,\"type\":null,\"memberships\":[{\"id\":\"5f2b20e7c34b04020b3f08df\",\"idMember\":\"5f1743783b184e31ee7d27f4\",\"memberType\":\"admin\",\"unconfirmed\":false,\"deactivated\":false}]},{\"id\":\"5f17361bb96c530ba5e761b6\",\"nodeId\":\"ari:cloud:trello::board/workspace/649f9186710924c07b4e8855/5f17361bb96c530ba5e761b6\",\"name\":\"Team Goals\",\"desc\":\"**Set & Track Triumphant Team Goals**\\n\\nUse this Trello board to keep execs and higher-ups happy with this clear and trackable goal setting process.\\n\\nHere's what's included, and how to get this goal setting party started:\\n\\n1. **Resources (Start Here!):**\\nThis list is perfect for you and your team to have all those documents, tips, presentations, or anything you tend to reference all the time. Meeting schedules and answers to common questions are also recommended to pop into this list so that your team is informed at all times. 📚\\n\\n2. **Goal 1:**\\nBreak out your top-level goals as separate lists, and summarize the goal as the list name. You'll keep things crystal clear by keeping the end goal always in view! 🌊\\n\\n3. **Goal 2:**\\nCreate as many new lists as needed to summarize all your team's top goals. 🔮\\n\\n4. **Goal 3:**\\nGoals can be metrics or numbers that you want to hit, or they can be projects that you want to accomplish. The sky's the limit! 💬\\n\\n5. **Done (Q1 2019):**\\nPut finished projects and closed goals in \\\"\\\"Done\\\"\\\" lists organized by quarter or other set time period, so you have a viewable history of all the great things you've accomplished. 🚷\\n\\n6. **Done (Q4 2018):**\\nCreate new \\\"\\\"Done\\\"\\\" lists as needed. You can always archive the lists to clear up space. They won't be permanently deleted so you can always bring them back later! ✨\\n\",\"descData\":null,\"closed\":false,\"dateClosed\":null,\"idOrganization\":\"649f9186710924c07b4e8855\",\"idEnterprise\":null,\"limits\":{\"attachments\":{\"perBoard\":{\"status\":\"ok\",\"disableAt\":36000,\"warnAt\":28800},\"perCard\":{\"status\":\"ok\",\"disableAt\":1000,\"warnAt\":800}},\"boards\":{\"totalMembersPerBoard\":{\"status\":\"ok\",\"disableAt\":1600,\"warnAt\":1280},\"totalAccessRequestsPerBoard\":{\"status\":\"ok\",\"disableAt\":4000,\"warnAt\":3200}},\"cards\":{\"openPerBoard\":{\"status\":\"ok\",\"disableAt\":5000,\"warnAt\":4000},\"openPerList\":{\"status\":\"ok\",\"disableAt\":5000,\"warnAt\":4000},\"totalPerBoard\":{\"status\":\"ok\",\"disableAt\":2000000,\"warnAt\":1600000},\"totalPerList\":{\"status\":\"ok\",\"disableAt\":1000000,\"warnAt\":800000}},\"checklists\":{\"perBoard\":{\"status\":\"ok\",\"disableAt\":1800000,\"warnAt\":1440000},\"perCard\":{\"status\":\"ok\",\"disableAt\":500,\"warnAt\":400}},\"checkItems\":{\"perChecklist\":{\"status\":\"ok\",\"disableAt\":200,\"warnAt\":160}},\"customFields\":{\"perBoard\":{\"status\":\"ok\",\"disableAt\":50,\"warnAt\":40}},\"customFieldOptions\":{\"perField\":{\"status\":\"ok\",\"disableAt\":50,\"warnAt\":40}},\"labels\":{\"perBoard\":{\"status\":\"ok\",\"disableAt\":1000,\"warnAt\":800}},\"lists\":{\"openPerBoard\":{\"status\":\"ok\",\"disableAt\":500,\"warnAt\":400},\"totalPerBoard\":{\"status\":\"ok\",\"disableAt\":3000,\"warnAt\":2400}},\"stickers\":{\"perCard\":{\"status\":\"ok\",\"disableAt\":70,\"warnAt\":56}},\"reactions\":{\"perAction\":{\"status\":\"ok\",\"disableAt\":900,\"warnAt\":720},\"uniquePerAction\":{\"status\":\"ok\",\"disableAt\":17,\"warnAt\":14}}},\"pinned\":false,\"starred\":false,\"url\":\"https://trello.com/b/bDN5cV5I/team-goals\",\"prefs\":{\"permissionLevel\":\"private\",\"hideVotes\":false,\"voting\":\"disabled\",\"comments\":\"members\",\"invitations\":\"members\",\"selfJoin\":true,\"cardCovers\":true,\"showCompleteStatus\":true,\"cardCounts\":false,\"isTemplate\":false,\"cardAging\":\"regular\",\"calendarFeedEnabled\":false,\"hiddenPluginBoardButtons\":[],\"switcherViews\":[{\"viewType\":\"Board\",\"enabled\":true},{\"viewType\":\"Table\",\"enabled\":true},{\"viewType\":\"Calendar\",\"enabled\":false},{\"viewType\":\"Dashboard\",\"enabled\":false},{\"viewType\":\"Timeline\",\"enabled\":false},{\"viewType\":\"Map\",\"enabled\":false}],\"background\":\"5c10509fccbce309853d7f26\",\"backgroundColor\":null,\"backgroundDarkColor\":null,\"backgroundImage\":\"https://trello-backgrounds.s3.amazonaws.com/54aaae13b8275361d2f78815/3200x2000/8784b4aabc24da4c72160423a0a487e2/graphic-goal-setting.png\",\"backgroundDarkImage\":null,\"backgroundImageScaled\":[{\"width\":140,\"height\":88,\"url\":\"https://trello-backgrounds.s3.amazonaws.com/54aaae13b8275361d2f78815/140x88/0a1f3b48158facfc899525434ba5858d/graphic-goal-setting.png\"},{\"width\":256,\"height\":160,\"url\":\"https://trello-backgrounds.s3.amazonaws.com/54aaae13b8275361d2f78815/256x160/0a1f3b48158facfc899525434ba5858d/graphic-goal-setting.png\"},{\"width\":480,\"height\":300,\"url\":\"https://trello-backgrounds.s3.amazonaws.com/54aaae13b8275361d2f78815/480x300/0a1f3b48158facfc899525434ba5858d/graphic-goal-setting.png\"},{\"width\":960,\"height\":600,\"url\":\"https://trello-backgrounds.s3.amazonaws.com/54aaae13b8275361d2f78815/960x600/0a1f3b48158facfc899525434ba5858d/graphic-goal-setting.png\"},{\"width\":1024,\"height\":640,\"url\":\"https://trello-backgrounds.s3.amazonaws.com/54aaae13b8275361d2f78815/1024x640/0a1f3b48158facfc899525434ba5858d/graphic-goal-setting.png\"},{\"width\":1280,\"height\":800,\"url\":\"https://trello-backgrounds.s3.amazonaws.com/54aaae13b8275361d2f78815/1280x800/0a1f3b48158facfc899525434ba5858d/graphic-goal-setting.png\"},{\"width\":1920,\"height\":1200,\"url\":\"https://trello-backgrounds.s3.amazonaws.com/54aaae13b8275361d2f78815/1920x1200/0a1f3b48158facfc899525434ba5858d/graphic-goal-setting.png\"},{\"width\":2048,\"height\":1280,\"url\":\"https://trello-backgrounds.s3.amazonaws.com/54aaae13b8275361d2f78815/2048x1280/0a1f3b48158facfc899525434ba5858d/graphic-goal-setting.png\"},{\"width\":2560,\"height\":1600,\"url\":\"https://trello-backgrounds.s3.amazonaws.com/54aaae13b8275361d2f78815/2560x1600/0a1f3b48158facfc899525434ba5858d/graphic-goal-setting.png\"},{\"width\":3200,\"height\":2000,\"url\":\"https://trello-backgrounds.s3.amazonaws.com/54aaae13b8275361d2f78815/3200x2000/8784b4aabc24da4c72160423a0a487e2/graphic-goal-setting.png\"}],\"backgroundTile\":false,\"backgroundBrightness\":\"light\",\"sharedSourceUrl\":null,\"backgroundBottomColor\":\"#7db4e3\",\"backgroundTopColor\":\"#95b7e4\",\"canBePublic\":true,\"canBeEnterprise\":true,\"canBeOrg\":true,\"canBePrivate\":true,\"canInvite\":true},\"shortLink\":\"bDN5cV5I\",\"subscribed\":false,\"labelNames\":{\"green\":\"Achieved!\",\"yellow\":\"Up Next\",\"orange\":\"At Risk\",\"red\":\"Missed (for now)\",\"purple\":\"In Progress\",\"blue\":\"On Track\",\"sky\":\"Framework\",\"lime\":\"\",\"pink\":\"Planning\",\"black\":\"\",\"green_dark\":\"\",\"yellow_dark\":\"\",\"orange_dark\":\"\",\"red_dark\":\"\",\"purple_dark\":\"\",\"blue_dark\":\"\",\"sky_dark\":\"\",\"lime_dark\":\"\",\"pink_dark\":\"\",\"black_dark\":\"\",\"green_light\":\"\",\"yellow_light\":\"\",\"orange_light\":\"\",\"red_light\":\"\",\"purple_light\":\"\",\"blue_light\":\"\",\"sky_light\":\"\",\"lime_light\":\"\",\"pink_light\":\"\",\"black_light\":\"\"},\"powerUps\":[],\"dateLastActivity\":\"2020-07-26T23:39:51.991Z\",\"dateLastView\":\"2020-07-27T21:26:54.918Z\",\"shortUrl\":\"https://trello.com/b/bDN5cV5I\",\"idTags\":[],\"datePluginDisable\":null,\"creationMethod\":\"assisted\",\"ixUpdate\":\"414\",\"templateGallery\":null,\"enterpriseOwned\":false,\"idBoardSource\":\"5c3e2f948af0c952c092ce40\",\"premiumFeatures\":[\"additionalBoardBackgrounds\",\"additionalStickers\",\"customBoardBackgrounds\",\"customEmoji\",\"customStickers\",\"plugins\"],\"idMemberCreator\":null,\"type\":null,\"memberships\":[{\"id\":\"5f17361cb96c530ba5e7622d\",\"idMember\":\"5f1735d414d8b05f0f16e958\",\"memberType\":\"admin\",\"unconfirmed\":false,\"deactivated\":false},{\"id\":\"5f178458e566ef8df5761d65\",\"idMember\":\"5f1743783b184e31ee7d27f4\",\"memberType\":\"normal\",\"unconfirmed\":false,\"deactivated\":false},{\"id\":\"5f1b717a4e31f802d8946e6c\",\"idMember\":\"5f1b71794e31f802d8946e66\",\"memberType\":\"normal\",\"unconfirmed\":true,\"deactivated\":false}]}]\n"
     ]
    }
   ],
   "source": [
    "#get board id \n",
    "import requests\n",
    "\n",
    "url = \"https://api.trello.com/1/members/me/boards\"\n",
    "\n",
    "query = {\n",
    "'key': 'd200138058c063cbb4ccd1c46bb572a0',\n",
    "'token': 'ATTA2e7844b7cbb2557cf79ef8cd019d9f64f0fc77840bc4410149219a6f447c56b4D33239C4'\n",
    "}\n",
    "\n",
    "response = requests.request(\"GET\", url, params=query)\n",
    "print(response.text)"
   ]
  },
  {
   "cell_type": "code",
   "execution_count": 4,
   "metadata": {},
   "outputs": [
    {
     "name": "stdout",
     "output_type": "stream",
     "text": [
      "                         id   name  closed                   idBoard     pos  \\\n",
      "0  5f1743793b184e31ee7d27fb  to Do   False  5f1743793b184e31ee7d27f9   65535   \n",
      "1  5f1743793b184e31ee7d27fc  Doing   False  5f1743793b184e31ee7d27f9  131071   \n",
      "2  5f1743793b184e31ee7d27fd   Done   False  5f1743793b184e31ee7d27f9  196607   \n",
      "\n",
      "   subscribed  \n",
      "0       False  \n",
      "1       False  \n",
      "2       False  \n",
      "200\n",
      "[{'id': '5f1743793b184e31ee7d27fb', 'name': 'to Do', 'closed': False, 'color': None, 'idBoard': '5f1743793b184e31ee7d27f9', 'pos': 65535, 'subscribed': False, 'softLimit': None, 'type': None, 'datasource': {'filter': False}}, {'id': '5f1743793b184e31ee7d27fc', 'name': 'Doing', 'closed': False, 'color': None, 'idBoard': '5f1743793b184e31ee7d27f9', 'pos': 131071, 'subscribed': False, 'softLimit': None, 'type': None, 'datasource': {'filter': False}}, {'id': '5f1743793b184e31ee7d27fd', 'name': 'Done', 'closed': False, 'color': None, 'idBoard': '5f1743793b184e31ee7d27f9', 'pos': 196607, 'subscribed': False, 'softLimit': None, 'type': None, 'datasource': {'filter': False}}]\n"
     ]
    }
   ],
   "source": [
    "#get list id\n",
    "import requests\n",
    "import pandas as pd\n",
    "\n",
    "# Replace with your board ID\n",
    "board_id = \"5f1743793b184e31ee7d27f9\"  # Example board ID\n",
    "\n",
    "# Trello API URL for getting lists on a board\n",
    "url = f\"https://api.trello.com/1/boards/{board_id}/lists\"\n",
    "\n",
    "# Query parameters (API key and token)\n",
    "query = {\n",
    "    'key': 'd200138058c063cbb4ccd1c46bb572a0',  # Your API Key\n",
    "    'token': 'ATTA2e7844b7cbb2557cf79ef8cd019d9f64f0fc77840bc4410149219a6f447c56b4D33239C4'  # Your API Token\n",
    "}\n",
    "\n",
    "# Make the request\n",
    "response = requests.request(\"GET\", url, params=query)\n",
    "\n",
    "# Check if the request was successful\n",
    "if response.status_code == 200:\n",
    "    lists_data = response.json()\n",
    "    \n",
    "    # Convert JSON to DataFrame\n",
    "    df = pd.DataFrame(lists_data)\n",
    "    \n",
    "    # Select relevant columns (if needed)\n",
    "    df = df[['id', 'name', 'closed', 'idBoard', 'pos', 'subscribed']]\n",
    "    \n",
    "    # Print the DataFrame\n",
    "    print(df)\n",
    "else:\n",
    "    print(f\"Error: {response.status_code}, {response.text}\")\n",
    "\n",
    "# Print the response\n",
    "print(response.status_code)  # Check the status code (200 means success)\n",
    "print(response.json())  # Print the JSON response (lists on the board)"
   ]
  },
  {
   "cell_type": "code",
   "execution_count": 5,
   "metadata": {},
   "outputs": [
    {
     "name": "stdout",
     "output_type": "stream",
     "text": [
      "200\n",
      "{'id': '67ddd3d59db09a35ca8a74f0', 'badges': {'attachments': 0, 'fogbugz': '', 'checkItems': 0, 'checkItemsChecked': 0, 'checkItemsEarliestDue': None, 'comments': 0, 'description': True, 'due': None, 'dueComplete': False, 'lastUpdatedByAi': False, 'start': None, 'externalSource': None, 'attachmentsByType': {'trello': {'board': 0, 'card': 0}}, 'location': False, 'votes': 0, 'maliciousAttachments': 0, 'viewingMemberVoted': False, 'subscribed': False}, 'checkItemStates': [], 'closed': False, 'dueComplete': False, 'dateLastActivity': '2025-03-21T21:02:13.709Z', 'desc': 'This is a test card created via the API 3', 'descData': {'emoji': {}}, 'due': None, 'dueReminder': None, 'email': None, 'idBoard': '5f1743793b184e31ee7d27f9', 'idChecklists': [], 'idList': '5f1743793b184e31ee7d27fb', 'idMembers': [], 'idMembersVoted': [], 'idShort': 16, 'idAttachmentCover': None, 'labels': [], 'idLabels': [], 'manualCoverAttachment': False, 'name': 'Test Card', 'nodeId': 'ari:cloud:trello::card/workspace/60cd341fe1254d7b6957be07/67ddd3d59db09a35ca8a74f0', 'pinned': False, 'pos': 49152, 'shortLink': 'cKkvANMg', 'shortUrl': 'https://trello.com/c/cKkvANMg', 'start': None, 'subscribed': False, 'url': 'https://trello.com/c/cKkvANMg/16-test-card', 'cover': {'idAttachment': None, 'color': None, 'idUploadedBackground': None, 'size': 'normal', 'brightness': 'dark', 'idPlugin': None}, 'isTemplate': False, 'cardRole': None, 'mirrorSourceId': None, 'attachments': [], 'stickers': [], 'limits': {}}\n"
     ]
    }
   ],
   "source": [
    "import requests\n",
    "\n",
    "# Replace with your list ID (you can get this using the /boards/{boardId}/lists endpoint)\n",
    "idList = \"64f0fc77840bc4410149219a\"  # Example list ID\n",
    "\n",
    "# Trello API URL for creating a card\n",
    "url = \"https://api.trello.com/1/cards\"\n",
    "\n",
    "# Query parameters (API key, token, and card details)\n",
    "query = {\n",
    "    'key': 'd200138058c063cbb4ccd1c46bb572a0',  # Your API Key\n",
    "    'token': 'ATTA2e7844b7cbb2557cf79ef8cd019d9f64f0fc77840bc4410149219a6f447c56b4D33239C4',  # Your API Token\n",
    "    'idList':  '5f1743793b184e31ee7d27fb',  # The list where the card will be created\n",
    "    'name': 'Test Card',  # Name of the card\n",
    "    'desc': 'This is a test card created via the API 3'  # Optional: Description of the card\n",
    "}\n",
    "\n",
    "# Make the request\n",
    "response = requests.request(\"POST\", url, params=query)\n",
    "\n",
    "# Print the response\n",
    "print(response.status_code)  # Check the status code (200 means success)\n",
    "print(response.json())  # Print the JSON response"
   ]
  },
  {
   "cell_type": "code",
   "execution_count": null,
   "metadata": {},
   "outputs": [],
   "source": []
  },
  {
   "cell_type": "code",
   "execution_count": null,
   "metadata": {},
   "outputs": [],
   "source": []
  }
 ],
 "metadata": {
  "kernelspec": {
   "display_name": "ai-agent",
   "language": "python",
   "name": "python3"
  },
  "language_info": {
   "codemirror_mode": {
    "name": "ipython",
    "version": 3
   },
   "file_extension": ".py",
   "mimetype": "text/x-python",
   "name": "python",
   "nbconvert_exporter": "python",
   "pygments_lexer": "ipython3",
   "version": "3.11.11"
  }
 },
 "nbformat": 4,
 "nbformat_minor": 2
}
