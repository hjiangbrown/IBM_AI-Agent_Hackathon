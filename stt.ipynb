{
 "cells": [
  {
   "cell_type": "code",
   "execution_count": 5,
   "metadata": {},
   "outputs": [
    {
     "name": "stdout",
     "output_type": "stream",
     "text": [
      "Recording... Speak now!\n",
      "Recording saved as 'recorded_audio.wav'.\n"
     ]
    },
    {
     "name": "stderr",
     "output_type": "stream",
     "text": [
      "/Users/hjiang/miniforge3/envs/ai-agent/lib/python3.11/site-packages/whisper/transcribe.py:126: UserWarning: FP16 is not supported on CPU; using FP32 instead\n",
      "  warnings.warn(\"FP16 is not supported on CPU; using FP32 instead\")\n"
     ]
    },
    {
     "name": "stdout",
     "output_type": "stream",
     "text": [
      "Transcription:\n",
      " Hey, this is Henry. I'm reporting in for daily standup. Today I worked on researching building agentic AI. Could you add create speech to text card onto the to do now list? That's all. Thank you. And also move Watson X card from to do to finished.\n"
     ]
    }
   ],
   "source": [
    "import sounddevice as sd\n",
    "import numpy as np\n",
    "import whisper\n",
    "from scipy.io.wavfile import write\n",
    "\n",
    "# Step 1: Record audio from microphone\n",
    "fs = 44100  # Sample rate\n",
    "seconds = 50  # Duration of recording\n",
    "print(\"Recording... Speak now!\")\n",
    "recording = sd.rec(int(seconds * fs), samplerate=fs, channels=1, dtype=np.int16)\n",
    "sd.wait()\n",
    "wav_filename = \"recorded_audio.wav\"\n",
    "write(wav_filename, fs, recording)\n",
    "print(f\"Recording saved as '{wav_filename}'.\")\n",
    "\n",
    "# Step 2: Transcribe the audio using Whisper\n",
    "model = whisper.load_model(\"base\")  # Use \"tiny\", \"small\", \"medium\", or \"large\" as needed\n",
    "result = model.transcribe(wav_filename)\n",
    "\n",
    "# Step 3: Print the transcription\n",
    "print(\"Transcription:\")\n",
    "print(result[\"text\"])\n"
   ]
  },
  {
   "cell_type": "code",
   "execution_count": null,
   "metadata": {},
   "outputs": [],
   "source": []
  }
 ],
 "metadata": {
  "kernelspec": {
   "display_name": "ai-agent",
   "language": "python",
   "name": "python3"
  },
  "language_info": {
   "codemirror_mode": {
    "name": "ipython",
    "version": 3
   },
   "file_extension": ".py",
   "mimetype": "text/x-python",
   "name": "python",
   "nbconvert_exporter": "python",
   "pygments_lexer": "ipython3",
   "version": "3.11.11"
  }
 },
 "nbformat": 4,
 "nbformat_minor": 2
}
